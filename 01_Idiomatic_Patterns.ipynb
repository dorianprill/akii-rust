{
 "cells": [
  {
   "cell_type": "markdown",
   "metadata": {
    "editable": true,
    "slideshow": {
     "slide_type": "slide"
    },
    "tags": []
   },
   "source": [
    "# Robuste Programmierung mit Rust\n",
    "## Idiomatische Programmiertechniken Anwenden\n",
    "### Dorian A. Prill | FH Salzburg | Department IT\n",
    "  \n",
    "<img align=\"left\" width=\"200\" height=\"200\" src=\"https://upload.wikimedia.org/wikipedia/commons/thumb/d/d5/Rust_programming_language_black_logo.svg/1024px-Rust_programming_language_black_logo.svg.png\"/>\n",
    "<img align=\"left\" width=\"300\" height=\"300\" src=\"https://rustacean.net/assets/rustacean-orig-noshadow.svg\"> \n"
   ]
  },
  {
   "cell_type": "markdown",
   "metadata": {
    "slideshow": {
     "slide_type": "subslide"
    }
   },
   "source": [
    "# In diesem Kapitel behandeln wir\n",
    "\n",
    "- Recap: Type Safety, Ownership, Borrowing\n",
    "\n",
    "- Das Newtype-Pattern\n",
    "\n",
    "- Das Typestate-Pattern\n",
    "\n",
    "- Das Builder-Pattern\n",
    "\n",
    "- Kombiniert als Typestate-Builder-Pattern"
   ]
  },
  {
   "cell_type": "markdown",
   "metadata": {
    "slideshow": {
     "slide_type": "subslide"
    }
   },
   "source": [
    "# Sonderfall Notebook\n",
    "\n",
    "> **Achtung:** Aufgrund von Rust's strikten Regeln sind in diesem Notebook alle Zellen als Scoped-Block mit `{` und `}` eingeklammert, um die Definitionen und Variablen im Interpreter nach jeder Zelle zu zerstoeren um keine False-Positive Fehlermeldungen zu erzeugen.\n",
    "Wenn Sie Code von hier kopieren, ersetzen Sie jeweils nur die aeusseren Scoped-Blocks durch eine Main-Funktion um den \"freien\" code (nicht die Defines `struct`, `enum`, etc)."
   ]
  },
  {
   "cell_type": "markdown",
   "metadata": {
    "slideshow": {
     "slide_type": "slide"
    }
   },
   "source": [
    "# Recap: Ownership, Borrowing (1)\n",
    "\n"
   ]
  },
  {
   "cell_type": "markdown",
   "metadata": {
    "slideshow": {
     "slide_type": "fragment"
    }
   },
   "source": [
    "Wird dieses Programm kompilieren? Warum?"
   ]
  },
  {
   "cell_type": "code",
   "execution_count": null,
   "metadata": {
    "slideshow": {
     "slide_type": "fragment"
    }
   },
   "outputs": [],
   "source": [
    "{\n",
    "    let s1 = String::from(\"Hello\");\n",
    "    let _s2 = s1; // underscore to suppress irrelevant (here) error\n",
    "    println!(\"{}\", s1);      \n",
    "}"
   ]
  },
  {
   "cell_type": "markdown",
   "metadata": {
    "slideshow": {
     "slide_type": "subslide"
    }
   },
   "source": [
    "\n",
    "Das funktioniert nicht!  \n",
    "\n",
    "> Erinnerung: In Rust kann jeder Wert nur einen Besitzer haben.   \n",
    "\n",
    "Durch die Zuweisung `s2 = s1` wird der Besitz von `s1` an `s2` übergeben (ein sog. `move`, Ausnahme: *Primitive Types*).  \n",
    "Die Übergabe an die Funktion `println!()` erfordert ein *Immutable Borrow*, dies kann aber nicht angefordert werden, da s1 der Wert nicht mehr gehört."
   ]
  },
  {
   "cell_type": "markdown",
   "metadata": {
    "slideshow": {
     "slide_type": "subslide"
    }
   },
   "source": [
    "Stattdessen könnte man folgendes tun:"
   ]
  },
  {
   "cell_type": "code",
   "execution_count": null,
   "metadata": {
    "slideshow": {
     "slide_type": "fragment"
    }
   },
   "outputs": [],
   "source": [
    "{\n",
    "    let s1 = String::from(\"hello\");\n",
    "    let s2 = s1.clone(); // kopie der daten mit neuer referenz, koennen nun unabh. genutzt werden.\n",
    "    println!(\"s1 = {}, s2 = {}\", s1, s2);\n",
    "}"
   ]
  },
  {
   "cell_type": "markdown",
   "metadata": {
    "slideshow": {
     "slide_type": "slide"
    },
    "vscode": {
     "languageId": "rust"
    }
   },
   "source": [
    "# Recap: Ownership, Borrowing (2)"
   ]
  },
  {
   "cell_type": "markdown",
   "metadata": {
    "slideshow": {
     "slide_type": "fragment"
    }
   },
   "source": [
    "Wird dieses Programm kompilieren? Warum?"
   ]
  },
  {
   "cell_type": "code",
   "execution_count": null,
   "metadata": {
    "slideshow": {
     "slide_type": "fragment"
    }
   },
   "outputs": [],
   "source": [
    "{\n",
    "    let mut x = 5;\n",
    "    let y = &mut x;     \n",
    "    println!(\"{}\", x);\n",
    "    println!(\"{}\", y)\n",
    "}"
   ]
  },
  {
   "cell_type": "markdown",
   "metadata": {
    "slideshow": {
     "slide_type": "subslide"
    }
   },
   "source": [
    "Leider nicht! Es wird versucht, `x` sowohl als mutable als auch als immutable Referenz zu verwenden (es darf maximal eine immutable Referenz geben).\n",
    "In diesem konstruierten Fall würde es also reichen, nur über die mutable Referenz zuzugreifen, da die Werte von `x`und `y` gleich sind:"
   ]
  },
  {
   "cell_type": "code",
   "execution_count": null,
   "metadata": {
    "slideshow": {
     "slide_type": "fragment"
    }
   },
   "outputs": [],
   "source": [
    "{\n",
    "    let mut x = 5;\n",
    "    let y = &mut x;\n",
    "    // x = 6; zuweisung waehrend borrow ebenfalls nicht moeglich\n",
    "    // nur über die mutable Referenz zugreifen\n",
    "    println!(\"{}\", y);    \n",
    "}"
   ]
  },
  {
   "cell_type": "markdown",
   "metadata": {
    "slideshow": {
     "slide_type": "slide"
    }
   },
   "source": [
    "# Recap: Type Safety (2)"
   ]
  },
  {
   "cell_type": "code",
   "execution_count": null,
   "metadata": {},
   "outputs": [],
   "source": [
    "{\n",
    "struct Cent(i32); // Newtype for representing amount in cent\n",
    "\n",
    "enum Payment {\n",
    "    Cash { amount: Cent },\n",
    "    CreditCard { amount: Cent, number: String, expiry: String },\n",
    "}\n",
    "  \n",
    "fn process_payment(payment: Payment) {\n",
    "    match payment {\n",
    "        Payment::Cash { amount: Cent(amount) } => println!(\"Processing cash payment of ${:.2}\", amount as f64 / 100.0),\n",
    "        Payment::CreditCard { amount: Cent(amount), number, expiry } => println!(\"Processing credit card payment of ${:.2} with card number: {} expiring: {}\", amount as f64 / 100.0, number, expiry),\n",
    "    }\n",
    "}\n",
    "\n",
    "    let my_payment = Payment::Cash { amount: Cent(5000) }; // 50.00 whole units\n",
    "    let your_payment = Payment::CreditCard {\n",
    "        amount: Cent(10000), // 100.00 whole units\n",
    "        number: String::from(\"1234-5678-9012-3456\"),\n",
    "        expiry: String::from(\"12/24\"),\n",
    "    };\n",
    "\n",
    "    process_payment(my_payment);\n",
    "    process_payment(your_payment);\n",
    "}"
   ]
  },
  {
   "cell_type": "markdown",
   "metadata": {
    "slideshow": {
     "slide_type": "subslide"
    },
    "vscode": {
     "languageId": "rust"
    }
   },
   "source": [
    "Ja, dies funktioniert fehlerfrei!  \n",
    "1. Das Amount-Struct hilft z.B. zwischen Euro-Ints und Cent-Ints zu unterscheiden.\n",
    "2. Exhausitve Pattern-Matching verhindert unerwünschte Fälle."
   ]
  },
  {
   "cell_type": "markdown",
   "metadata": {
    "slideshow": {
     "slide_type": "subslide"
    }
   },
   "source": [
    "# Recap: Lifetimes (1)\n",
    "Lifetimes sind eine ergänzende Taktik zu Ownership/Borrowing, um sicherzustellen, dass Referenzen auf gültige Werte zeigen.  \n",
    "Nehmen wir folgendes Beispiel (Lifetimes werden mit `'` markiert, die Namen sind frei wählbar, oft einfach 'a, 'b, 'c, ...):"
   ]
  },
  {
   "cell_type": "code",
   "execution_count": null,
   "metadata": {
    "slideshow": {
     "slide_type": "fragment"
    }
   },
   "outputs": [],
   "source": [
    "{\n",
    "    fn longest<'a>(s1: &'a str, s2: &'a str) -> &'a str {\n",
    "        if s1.len() > s2.len() {\n",
    "            s1\n",
    "        } else {\n",
    "            s2\n",
    "        }\n",
    "    }\n",
    "\n",
    "    let string1 = String::from(\"Hello\");\n",
    "    //let result;\n",
    "    {\n",
    "        let string2 = String::from(\"World!\");\n",
    "        let result = longest(string1.as_str(), string2.as_str());\n",
    "        println!(\"The longest string is {}\", result);\n",
    "    }\n",
    "    \n",
    "}\n"
   ]
  },
  {
   "cell_type": "markdown",
   "metadata": {
    "slideshow": {
     "slide_type": "subslide"
    }
   },
   "source": [
    "Der Compiler erkennt dank der Lifetime-Analyse, dass der String `s2` *ausserhalb* der Funktion nicht lange genug lebt!  \n",
    "Wir muessen also den Main-Code aendern:"
   ]
  },
  {
   "cell_type": "code",
   "execution_count": null,
   "metadata": {
    "slideshow": {
     "slide_type": "fragment"
    }
   },
   "outputs": [],
   "source": [
    "{\n",
    "    fn longest<'a>(s1: &'a str, s2: &'a str) -> &'a str {\n",
    "        if s1.len() > s2.len() {\n",
    "            s1\n",
    "        } else {\n",
    "            s2\n",
    "        }\n",
    "    }\n",
    "\n",
    "    \n",
    "    let string1 = String::from(\"Hello\");\n",
    "    let result;\n",
    "    let string2 = String::from(\"World!\");\n",
    "    result = longest(string1.as_str(), string2.as_str());\n",
    "    println!(\"The longest string is {}\", result);\n",
    "}"
   ]
  },
  {
   "cell_type": "markdown",
   "metadata": {
    "slideshow": {
     "slide_type": "slide"
    }
   },
   "source": [
    "# Das Newtype-Pattern\n",
    "\n",
    "Das Newtype-Pattern ist eine einfache aber effektive Programmiertechnik zur Erhöhung der Typensicherheit eines Programms, die in einigen Programmiersprachen (z.B. Rust, Haskell) unterstützt wird.  \n",
    "Mit dem Newtype-Pattern wird ein neuer Typ definiert, der sich nur in der Bezeichnung von einem bestehenden Typ unterscheidet.\n",
    "\n",
    "Typensicherheit wird oft unterschätzt, aber sie ist ein wichtiger Bestandteil der Softwareentwicklung [z.B. NASA Climate Orbiter Failure](https://en.wikipedia.org/wiki/Mars_Climate_Orbiter).\n",
    "\n",
    "> Achtung: `typedef` in C/C++ ist kein Newtype-Pattern, da es nur ein Alias für einen bestehenden Typ ist und somit die normalen Konvertierungsregeln angewendet werden. In Rust ist es ein echter neuer Datentyp der nach allen Regeln geprüft wird."
   ]
  },
  {
   "cell_type": "markdown",
   "metadata": {
    "slideshow": {
     "slide_type": "subslide"
    }
   },
   "source": [
    "# Newtype-Pattern in Rust"
   ]
  },
  {
   "cell_type": "code",
   "execution_count": null,
   "metadata": {
    "slideshow": {
     "slide_type": "fragment"
    }
   },
   "outputs": [],
   "source": [
    "{\n",
    "struct Meters(f64);\n",
    "struct Feet(f64);\n",
    "\n",
    "impl From<Meters> for Feet {\n",
    "    fn from(meters: Meters) -> Feet {\n",
    "        Feet(meters.0 * 3.28084)\n",
    "    }\n",
    "}\n",
    "impl From<Feet> for Meters {\n",
    "    fn from(feet: Feet) -> Meters {\n",
    "        Meters(feet.0 / 3.28084)\n",
    "    }\n",
    "}\n",
    "let distance_in_meters = Meters(100.0); // 100 meters\n",
    "let distance_in_feet: Feet = distance_in_meters.into();\n",
    "println!(\"Distance in feet: {:.2}\", distance_in_feet.0);\n",
    "let converted_back_to_meters: Meters = distance_in_feet.into();\n",
    "println!(\"Converted back to meters: {:.2}\", converted_back_to_meters.0);\n",
    "}"
   ]
  },
  {
   "cell_type": "markdown",
   "metadata": {
    "slideshow": {
     "slide_type": "subslide"
    },
    "vscode": {
     "languageId": "rust"
    }
   },
   "source": [
    "> Achtung: In C kann ein `struct` mit einer Variable und `get`/`set`-Methoden ebenfalls nicht die gleichen Compile-Zeit Sicherheiten wie Rust bieten.\n",
    "\n",
    "Dies hat mehrere Gründe:\n",
    "- Fehlende Ownership/Borrowing Regeln\n",
    "- Weniger striktes Typsystem\n",
    "- Keine statische Analyse für Feldzugriff (Rust hat private by default, pub und pub(crate))"
   ]
  },
  {
   "cell_type": "markdown",
   "metadata": {
    "slideshow": {
     "slide_type": "subslide"
    }
   },
   "source": [
    "## Mehrere Möglichkeiten für Newtypes\n",
    "\n",
    "Zuvor haben wir nur eine - wenn auch häufig angewandte - Möglichkeit für das Newtype-Pattern gesehen. Es gibt aber verschiedene Möglichkeiten: \n",
    "\n",
    "1. **Tuple Structs (Anonyme Structs)**: Simple Benutzung für `struct`s mit nur einem Feld. Siehe Beispiel zuvor.\n",
    "2. **Named Structs**: \"Normale Benutzung von `struct`s mit benannten Feldern. Erhöht die Klarheit für 2 und mehr Felder.\n",
    "3. **Unit Structs**: Ein Größenloser Typ der zum markieren von Zuständen zur Compile-Zeit verwendet werden kann. Diese Technik werden wir folgend noch genauer kennenlernen.\n",
    "4. **Phantom Data und Generics**: Variante 1 oder 2 und ein ein zusätzliches, größenloses `std::marker::PhantomData`Feld um Information über einen generischen Typ zu prüfen ohne diesen selbst im struct zu halten."
   ]
  },
  {
   "cell_type": "markdown",
   "metadata": {
    "slideshow": {
     "slide_type": "subslide"
    }
   },
   "source": [
    "## Newtypes mit Named Structs"
   ]
  },
  {
   "cell_type": "code",
   "execution_count": null,
   "metadata": {
    "slideshow": {
     "slide_type": "fragment"
    }
   },
   "outputs": [],
   "source": [
    "{\n",
    "struct Cent {\n",
    "    value: i32, // Alle Felder sind benannt\n",
    "}\n",
    "\n",
    "impl Cent {\n",
    "    pub fn new(value: i32) -> Cent {\n",
    "        Cent { value }\n",
    "    }\n",
    "    \n",
    "    pub fn value(&self) -> i32 {\n",
    "        self.value  // named access\n",
    "    }\n",
    "}\n",
    "}"
   ]
  },
  {
   "cell_type": "markdown",
   "metadata": {
    "slideshow": {
     "slide_type": "subslide"
    }
   },
   "source": [
    "## Newtypes mit Unit Structs\n",
    "\n",
    "Ein Unit Struct hat keine Größe zur Laufzeit (Zero-Sized-Type), da es nur zum prüfen des Typsystems dient. Dies ist in manchen Fällen sinnvoll, wie etwa der Anwendung des Typestate-Pattern, weswegen wir dieses Beispiel jetzt erstmal nach hinten stellen.   \n",
    "\n",
    "Zumindest können wir beweisen, dass der Typ keinen Speicherplatz einnimmt:"
   ]
  },
  {
   "cell_type": "code",
   "execution_count": null,
   "metadata": {
    "slideshow": {
     "slide_type": "fragment"
    }
   },
   "outputs": [],
   "source": [
    "{\n",
    "struct MyUnitStruct;\n",
    "\n",
    "println!(\"Size of MyUnitStruct: {}\", std::mem::size_of::<MyUnitStruct>());\n",
    "}"
   ]
  },
  {
   "cell_type": "markdown",
   "metadata": {
    "slideshow": {
     "slide_type": "subslide"
    }
   },
   "source": [
    "## Newtypes mit PhantomData und Generics\n",
    "\n",
    "In komplexeren Anwendungen, welchen von generischen Datentypen abhängen, kann man ein sog. Marker-Feld ebenfalls als Teil des `struct`verwenden um den Datentypen zur Compile-Zeit zu verfolgen, ohne das Datum selbst jemals zu speichern.  \n",
    "Damit kann z.B. das Lifetime-Tracking eines Raw Pointers auf nicht-eigene Daten ermöglicht werden. Dies wird angewendet, wenn man sichere Abstraktionen um unsichere Programmteile bauen möchte."
   ]
  },
  {
   "cell_type": "code",
   "execution_count": null,
   "metadata": {
    "slideshow": {
     "slide_type": "subslide"
    }
   },
   "outputs": [],
   "source": [
    "{\n",
    "use std::marker::PhantomData;\n",
    "\n",
    "// T selbst wird nie gespeichert, aber die statische \n",
    "// Analyse (auch Lifetime) wird trotzdem durchgefuehrt!\n",
    "struct Cent<T> {\n",
    "    value: i32,\n",
    "    _marker: PhantomData<T>,\n",
    "} \n",
    "\n",
    "impl<T> Cent<T> {\n",
    "    pub fn new(value: i32) -> Cent<T> {\n",
    "        Cent { value, _marker: PhantomData }\n",
    "    }\n",
    "}\n",
    "}"
   ]
  },
  {
   "cell_type": "markdown",
   "metadata": {
    "slideshow": {
     "slide_type": "slide"
    }
   },
   "source": [
    "# Das Typestate-Pattern: Motivation\n",
    "\n",
    "- In C ist es beispielsweise möglich eine Datei zu schließen, und danach wieder versuchen zu schreiben, ohne, dass der Compiler es merkt (und was zu einem Laufzeitfehler führt).\n",
    "```c\n",
    "FILE *file = fopen(\"data.txt\", \"r\");\n",
    "fclose(file);\n",
    "// Fehler: Schreiben nach dem Schließen der Datei, aber keine Kompilierfehler\n",
    "fwrite(data, sizeof(char), length, file);\n",
    "```\n",
    "- So ein offensichtlicher Fehler sollte doch schon zur Compile-Zeit irgendwie abgefangen werden können!\n",
    "- Wir müssten also den Zustand in einem eigenen Datentyp abbilden, sodass er von der statischen Analyse erfasst wird\n",
    "- Mit diesen Datentypen könnten wir dann sogar die API-Oberfläche begrenzen, dass sie gar nicht falsch benutzt werden *kann*"
   ]
  },
  {
   "cell_type": "markdown",
   "metadata": {
    "editable": true,
    "slideshow": {
     "slide_type": "subslide"
    },
    "tags": []
   },
   "source": [
    "# Typestate-Pattern: Einführung\n",
    "\n",
    "Während in C keine statische Information zum Öffnungszustand besteht, können wir in Rust diese Zustände abbilden.\n",
    "\n",
    "```Rust\n",
    "struct OpenFile { /* ... */ }\n",
    "struct ClosedFile { /* ... */ }\n",
    "\n",
    "impl OpenFile {\n",
    "    fn close(self) -> ClosedFile { // Beachte: self statt &self\n",
    "        // Übergang von geöffnetem zu geschlossenem Zustand\n",
    "        ClosedFile { /* ... */ }\n",
    "    }\n",
    "}\n",
    "\n",
    "impl ClosedFile {\n",
    "    fn open(self) -> OpenFile { // Beachte: self statt &self\n",
    "        // Übergang von geschlossenem zu geöffnetem Zustand\n",
    "        OpenFile { /* ... */ }\n",
    "    }\n",
    "}\n",
    "\n",
    "let file = OpenFile { /* ... */ };\n",
    "let closed_file = file.close();\n",
    "// file kann ab hier nicht mehr benutzt werden, Rust verbietet sonst die Kompilierung!\n",
    "```"
   ]
  },
  {
   "cell_type": "markdown",
   "metadata": {
    "editable": true,
    "slideshow": {
     "slide_type": "subslide"
    },
    "tags": []
   },
   "source": [
    "Dadurch entfallen auch kostspielige Laufzeit-Checks (`if`/`switch`), unser Program ist dadurch also sogar effizienter.\n",
    "> Das Ziel ist, *unzulässige Zustände unrepresentierbar zu machen*.\n",
    "In C können wir dies nicht abbilden, auch nicht mit dem Struct Ansatz, da:\n",
    "\n",
    "1. C kennt keine Ownership/Borrowing Regeln. Da Rust bei einem Zustandsübergang ein Nutzen des alten Zustands verhindert.\n",
    "2. In C ist sind Zeiger auf den alten Zustand weiterhin Zugreifbar, es gibt keine Compile-Zeit Garantien für Speichernutzung.\n",
    "\n",
    "[Typestate Programming im Rust Embedded Book](https://docs.rust-embedded.org/book/static-guarantees/typestate-programming.html)"
   ]
  },
  {
   "cell_type": "markdown",
   "metadata": {
    "editable": true,
    "slideshow": {
     "slide_type": "subslide"
    },
    "tags": []
   },
   "source": [
    "## Generic Typestate-Pattern\n",
    "\n",
    "Im vorherigen Beispiel mussten Felder noch zwischen den zwei Datentypen dupliziert werden, was nicht ideal ist.  \n",
    "\n",
    "Stattdessen kann man ein gemeinsames `struct` verwenden, was über einen generischen Parameter verfügt, den wir für den Zustand benutzen."
   ]
  },
  {
   "cell_type": "markdown",
   "metadata": {
    "editable": true,
    "slideshow": {
     "slide_type": "subslide"
    },
    "tags": []
   },
   "source": [
    "Als erstes führen wir ein *leeres* Trait ein, welches Später den generischen Parameter füllen wird.  \n",
    "Dann erstellen wir *ebenfalls leere* `structs`, welche die einzelnen Zustände repräsentieren.  \n",
    "Zuletzt müssen wir noch das Trait implementieren (*meist ebenfalls leer*).\n",
    "\n",
    "```Rust\n",
    "// Define a trait to represent any state\n",
    "pub trait State {}\n",
    "// Define the different states\n",
    "pub struct OpenState;\n",
    "pub struct ClosedState;\n",
    "// Implement the State trait for the states\n",
    "impl State for OpenState {}\n",
    "impl State for ClosedState {}\n",
    "\n",
    "// Generic File struct, where the state is represented by the generic parameter S\n",
    "pub struct File<S: State> {\n",
    "    // Fields like file descriptor etc\n",
    "}"
   ]
  },
  {
   "attachments": {},
   "cell_type": "markdown",
   "metadata": {
    "editable": true,
    "slideshow": {
     "slide_type": "subslide"
    },
    "tags": []
   },
   "source": [
    "Jetzt müssen wir natürlich - wie zuvor - noch die einzelnen Zustände und ihre Übergänge implementieren:\n",
    "\n",
    "```Rust\n",
    "impl File<OpenState> {\n",
    "    // Method to close the file, transitioning from OpenState to ClosedState\n",
    "    pub fn close(self) -> File<ClosedState> {\n",
    "        // Transition logic from open to closed\n",
    "        File {\n",
    "            // File fields go here\n",
    "        }\n",
    "    }\n",
    "    pub fn read(&self) { } // Non consuming ref\n",
    "}\n",
    "\n",
    "impl File<ClosedState> {\n",
    "    pub fn open(self) -> File<OpenState> {\n",
    "        // Transition logic from closed to open\n",
    "        File {\n",
    "            // File fields go here\n",
    "        }\n",
    "    }\n",
    "}\n",
    "```"
   ]
  },
  {
   "cell_type": "markdown",
   "metadata": {
    "editable": true,
    "slideshow": {
     "slide_type": "subslide"
    },
    "tags": []
   },
   "source": [
    "So sieht dann der Aufrufende Code aus. Auch hier schützt das Typsystem wieder vor fehlerhaften Zuständen:\n",
    "\n",
    "```Rust\n",
    "fn main() {\n",
    "    // Create an open file\n",
    "    let open_file: File<OpenState> = File {\n",
    "        // Initialize file fields\n",
    "    };\n",
    "    // Use the file while it's open\n",
    "    open_file.read();\n",
    "    // Close the file\n",
    "    let closed_file: File<ClosedState> = open_file.close();\n",
    "\n",
    "    closed_file.read() // error, function doesn't exist for File<ClosedState>\n",
    "\n",
    "    // Reopen the file\n",
    "    let reopened_file: File<OpenState> = closed_file.open();\n",
    "}\n",
    "```"
   ]
  },
  {
   "cell_type": "markdown",
   "metadata": {
    "editable": true,
    "slideshow": {
     "slide_type": "slide"
    },
    "tags": [],
    "vscode": {
     "languageId": "rust"
    }
   },
   "source": [
    "# Das Builder-Pattern: Motivation\n",
    "\n",
    "- Das Builder-Pattern ist ein Entwurfsmuster, das verwendet wird, um die Erstellung von Objekten mit optionalen Feldern zu vereinfachen.\n",
    "- Zum Beispiel bei der Erstellung von GUI-Elementen, oder bei der Erstellung von SQL-Queries.\n",
    "- In Rust ist das Builder-Pattern besonders nützlich, da es die Verwendung von `Option`-Typen und `unwrap()`-Aufrufen vermeidet.\n",
    "- Es wird oft in Kombination mit dem Typestate-Pattern verwendet, um die Erstellung von Objekten in einem bestimmten Zustand zu erzwingen (Typestate-Builder)."
   ]
  },
  {
   "cell_type": "markdown",
   "metadata": {
    "slideshow": {
     "slide_type": "subslide"
    }
   },
   "source": [
    "## Builder-Pattern: Funktionsweise\n",
    "\n",
    "1. Sie wollen ein Object `MyObject` erstellen, das mehrere Felder hat, von denen einige optional sind.\n",
    "2. `MyObject` erhält nun einen Partnertyp `MyObjectBuilder`, welcher die *gleichen Felder* wie `MyObject` enthält.\n",
    "3. Wir dürfen `MyObject` nur über `MyObjectBuilder` erstellen, da `MyObject` keine öffentlichen Konstruktoren hat.\n",
    "4. `MyObjectBuilder` hat für *jedes* optionale Feld eine Methode, die das Feld setzt und das neue `MyObjectBuilder`-Objekt zurückgibt.\n",
    "5. Eine finale methode `build()` erstellt das `MyObject`-Objekt aus dem `MyObjectBuilder`-Objekt."
   ]
  },
  {
   "cell_type": "code",
   "execution_count": null,
   "metadata": {
    "slideshow": {
     "slide_type": "subslide"
    }
   },
   "outputs": [],
   "source": [
    "{\n",
    "struct Circle { // private\n",
    "    x: f64,\n",
    "    y: f64,\n",
    "    radius: f64,    \n",
    "}\n",
    "pub struct CircleBuilder { // public\n",
    "    x: f64,\n",
    "    y: f64,\n",
    "    radius: f64,\n",
    "}\n",
    "\n",
    "impl CircleBuilder {\n",
    "    pub fn new() -> CircleBuilder { // can take mandatory parameters\n",
    "        CircleBuilder { x: 0.0, y: 0.0, radius: 1.0 }\n",
    "    }\n",
    "    pub fn x(&mut self, coordinate: f64) -> &mut CircleBuilder {\n",
    "        self.x = coordinate;\n",
    "        self\n",
    "    }\n",
    "    pub fn y(&mut self, coordinate: f64) -> &mut CircleBuilder {\n",
    "        self.y = coordinate;\n",
    "        self\n",
    "    }\n",
    "    pub fn radius(&mut self, radius: f64) -> &mut CircleBuilder {\n",
    "        self.radius = radius;\n",
    "        self\n",
    "    }\n",
    "    pub fn build(&self) -> Circle {\n",
    "        Circle { x: self.x, y: self.y, radius: self.radius }\n",
    "    }\n",
    "}\n",
    "let c = CircleBuilder::new()\n",
    "    .x(1.0)\n",
    "    .y(2.0)\n",
    "    .radius(2.5)\n",
    "    .build();\n",
    "println!(\"Circle at ({}, {}), radius: {}\", c.x, c.y, c.radius);\n",
    "}"
   ]
  },
  {
   "cell_type": "markdown",
   "metadata": {
    "slideshow": {
     "slide_type": "subslide"
    }
   },
   "source": [
    "## Builder-Pattern: Warum nicht einfach ein Konstruktor mit `Option`s?\n",
    "\n",
    "Eine einfachere Funktion mit `Option`-Typen, z.B. so: \n",
    "```Rust\n",
    "struct MyObject {\n",
    "    field1: i32,\n",
    "    field2: String,\n",
    "    field3: f64,\n",
    "}\n",
    "fn new(field1: Option<i32>, field2: Option<String>, field3: Option<f64>) -> MyObject {\n",
    "    MyObject { \n",
    "        field1: field1.unwrap_or(1), \n",
    "        field2: field2.unwrap_or(String::new()), \n",
    "        field3: field3.unwrap_or(1.) \n",
    "    }\n",
    "}\n",
    "```\n",
    "\n",
    "würde auch funktionieren, aber:\n",
    "\n",
    "- Die Lesbarkeit nimmt ab: Beim Aufruf von Funktionen mit vielen Parametern ist nicht schnell ersichtlich, welche Parameter es sind.\n",
    "- Es ist nicht möglich, die Reihenfolge der Parameter zu ändern.\n",
    "- Es ist nicht möglich, die Parameter zu benennen.\n",
    "- Es ist nicht möglich, die Parameter einzeln zu validieren.\n",
    "- Es ist nicht möglich, die Parameter zu verändern, ohne die Signatur der Funktion zu verändern (*breaking change*).\n",
    "  "
   ]
  },
  {
   "cell_type": "markdown",
   "metadata": {
    "editable": true,
    "slideshow": {
     "slide_type": "slide"
    },
    "tags": []
   },
   "source": [
    "# In Kombination als Typestate-Builder Pattern\n",
    "\n",
    "Wir können jetzt also:\n",
    "\n",
    "1. Zustände zur Compile Zeit beschreiben und prüfen\n",
    "2. Objekte erzeugen und partiell belegen\n",
    "\n",
    "Wenn wir dies nun kombinieren, können wir Zustände an unterschiedliche Stufen der Initialisierung binden!\n",
    "\n",
    "- Verbesserte API Ergonomie und Sicherheit\n",
    "- Mehr Typen und Code -> höhere Komplexität\n",
    "- Wartungsaufwand: Änderungen in mehreren Typen und Zustandsübergängen"
   ]
  },
  {
   "cell_type": "markdown",
   "metadata": {
    "editable": true,
    "slideshow": {
     "slide_type": "subslide"
    },
    "tags": []
   },
   "source": [
    "# Beispiel: File Transfer API\n",
    "\n",
    "Starten wir wieder mit der Beschreibung der Marker-Typen für die Zustände:"
   ]
  },
  {
   "cell_type": "code",
   "execution_count": null,
   "metadata": {
    "editable": true,
    "slideshow": {
     "slide_type": "fragment"
    },
    "tags": []
   },
   "outputs": [],
   "source": [
    "struct Connected;\n",
    "struct Authenticated;\n",
    "struct Transferring;"
   ]
  },
  {
   "cell_type": "markdown",
   "metadata": {
    "editable": true,
    "slideshow": {
     "slide_type": "subslide"
    },
    "tags": []
   },
   "source": [
    "Wir wollen eine `Session`beschreiben, die von diesen Zuständen abhängt (aber ihn nicht enthält):"
   ]
  },
  {
   "cell_type": "code",
   "execution_count": null,
   "metadata": {
    "editable": true,
    "slideshow": {
     "slide_type": "fragment"
    },
    "tags": []
   },
   "outputs": [],
   "source": [
    "struct Session<State> {\n",
    "    connection_info: String,\n",
    "    state: std::marker::PhantomData<State>,\n",
    "}  "
   ]
  },
  {
   "cell_type": "markdown",
   "metadata": {
    "editable": true,
    "slideshow": {
     "slide_type": "subslide"
    },
    "tags": []
   },
   "source": [
    "Jetzt müssen wir die Zustandsübergänge definieren:\n",
    "\n",
    "1. Eine Verbindung herstellen und authentifizieren (könnten auch zwei Zustände sein):"
   ]
  },
  {
   "cell_type": "code",
   "execution_count": null,
   "metadata": {
    "editable": true,
    "slideshow": {
     "slide_type": "fragment"
    },
    "tags": []
   },
   "outputs": [],
   "source": [
    "impl Session<Connected> {\n",
    "    fn new(connection_info: &str) -> Self {\n",
    "        Session {\n",
    "            connection_info: connection_info.to_string(),\n",
    "            state: std::marker::PhantomData,\n",
    "        }\n",
    "    }\n",
    "\n",
    "    fn authenticate(self, credentials: &str) -> Session<Authenticated> {\n",
    "        // Perform authentication logic here\n",
    "        println!(\"Authenticating with credentials: {}\", credentials);\n",
    "        Session {\n",
    "            connection_info: self.connection_info,\n",
    "            state: std::marker::PhantomData,\n",
    "        }\n",
    "    }\n",
    "}\n"
   ]
  },
  {
   "cell_type": "markdown",
   "metadata": {
    "editable": true,
    "slideshow": {
     "slide_type": "subslide"
    },
    "tags": []
   },
   "source": [
    "2. Die Dateiübertragung anfragen:"
   ]
  },
  {
   "cell_type": "code",
   "execution_count": null,
   "metadata": {
    "editable": true,
    "slideshow": {
     "slide_type": "fragment"
    },
    "tags": []
   },
   "outputs": [],
   "source": [
    "impl Session<Authenticated> {\n",
    "    fn start_transfer(self) -> Session<Transferring> {\n",
    "        // Initialize file transfer logic here\n",
    "        println!(\"Starting file transfer...\");\n",
    "        Session {\n",
    "            connection_info: self.connection_info, \n",
    "            state: std::marker::PhantomData,\n",
    "        }\n",
    "    }\n",
    "}\n"
   ]
  },
  {
   "cell_type": "markdown",
   "metadata": {
    "editable": true,
    "slideshow": {
     "slide_type": "subslide"
    },
    "tags": []
   },
   "source": [
    "3. Datei senden und Transfer beenden"
   ]
  },
  {
   "cell_type": "code",
   "execution_count": null,
   "metadata": {
    "editable": true,
    "slideshow": {
     "slide_type": "fragment"
    },
    "tags": []
   },
   "outputs": [],
   "source": [
    "impl Session<Transferring> {\n",
    "    fn send_file(&self, file_path: &str) {\n",
    "        // File sending logic here\n",
    "        println!(\"Sending file: {}\", file_path);\n",
    "    }\n",
    "\n",
    "    fn end_transfer(self) {\n",
    "        // Cleanup logic here\n",
    "        println!(\"Ending file transfer.\");\n",
    "    }\n",
    "}\n"
   ]
  },
  {
   "cell_type": "markdown",
   "metadata": {
    "editable": true,
    "slideshow": {
     "slide_type": "subslide"
    },
    "tags": []
   },
   "source": [
    "So benutzen wir die API dann in der Praxis:"
   ]
  },
  {
   "cell_type": "code",
   "execution_count": null,
   "metadata": {
    "editable": true,
    "slideshow": {
     "slide_type": "fragment"
    },
    "tags": []
   },
   "outputs": [],
   "source": [
    "\n",
    "let session = Session::<Connected>::new(\"server_address\")\n",
    "    .authenticate(\"user_credentials\")\n",
    "    .start_transfer();\n",
    "\n",
    "session.send_file(\"/path/to/file\");\n",
    "session.authenticate();\n",
    "session.end_transfer();\n"
   ]
  },
  {
   "cell_type": "markdown",
   "metadata": {
    "editable": true,
    "slideshow": {
     "slide_type": "subslide"
    },
    "tags": []
   },
   "source": [
    "Wir werden vor Fehlzugriffen geschützt:"
   ]
  },
  {
   "cell_type": "code",
   "execution_count": null,
   "metadata": {
    "editable": true,
    "slideshow": {
     "slide_type": "fragment"
    },
    "tags": []
   },
   "outputs": [],
   "source": [
    "let session = Session::<Connected>::new(\"server_address\");\n",
    "session.send_file(\"/path/to/file\"); // Compile-time error!\n"
   ]
  },
  {
   "cell_type": "markdown",
   "metadata": {
    "editable": true,
    "slideshow": {
     "slide_type": "slide"
    },
    "tags": []
   },
   "source": [
    "# Übung: State-Machine in einem Kommunikationsprotokoll\n",
    "\n",
    "Wir wollen ein einfaches Netzwerk-Protokoll schreiben - Zum Glück gibt es schon einfache Protokolle wie UDP. Leider bietet UDP aber keinen Acknowledge/Resend Mechanismus wie TCP.  \n",
    "Wir wollen jetzt diesen Mechanismus auf UDP aufsetzen, dazu müssen wir einen Zustandsautomat für das Protokoll definieren."
   ]
  },
  {
   "cell_type": "markdown",
   "metadata": {
    "editable": true,
    "slideshow": {
     "slide_type": "subslide"
    },
    "tags": []
   },
   "source": [
    "**Sender States:**\n",
    "\n",
    "- Idle: Waiting for Message\n",
    "- Receiving: Receiving Message\n",
    "- AwaitingAck: Wait for Acknowledgement of Message\n",
    "- Resend: Resend Message after Timeout or NACK\n",
    "\n",
    "\n",
    "**Receiver States:**\n",
    "\n",
    "- Idle: Waiting to send Message\n",
    "- Sending: Sending Message\n",
    "- SendingAck: Acknowledge the Reception of a Message\n",
    "- SendingNAck: Do not acknowledge the Reception of a Message (i.e. malformed message)"
   ]
  },
  {
   "cell_type": "code",
   "execution_count": null,
   "metadata": {},
   "outputs": [],
   "source": []
  }
 ],
 "metadata": {
  "celltoolbar": "Slideshow",
  "kernelspec": {
   "display_name": "Rust",
   "language": "rust",
   "name": "rust"
  },
  "language_info": {
   "codemirror_mode": "rust",
   "file_extension": ".rs",
   "mimetype": "text/rust",
   "name": "rust",
   "pygment_lexer": "rust",
   "version": ""
  }
 },
 "nbformat": 4,
 "nbformat_minor": 4
}
