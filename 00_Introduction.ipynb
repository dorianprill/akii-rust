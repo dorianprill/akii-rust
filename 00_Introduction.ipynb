{
 "cells": [
  {
   "cell_type": "markdown",
   "metadata": {
    "slideshow": {
     "slide_type": "slide"
    }
   },
   "source": [
    "# Robuste Programmierung mit Rust\n",
    "## Memory Safe, Type Safe, Performant - Pick Three\n",
    "### Dorian A. Prill | FH Salzburg | Department IT\n",
    "  \n",
    "<img align=\"left\" src=\"https://upload.wikimedia.org/wikipedia/commons/thumb/d/d5/Rust_programming_language_black_logo.svg/1024px-Rust_programming_language_black_logo.svg.png\" width=\"350\" height=\"350\" />\n",
    "<img align=\"left\" width=\"200\" height=\"200\" src=\"https://rustacean.net/assets/rustacean-orig-noshadow.svg\"> \n"
   ]
  },
  {
   "cell_type": "markdown",
   "metadata": {
    "jp-MarkdownHeadingCollapsed": true,
    "slideshow": {
     "slide_type": "subslide"
    }
   },
   "source": [
    "# In diesem Kurs beantworten wir\n",
    "- Warum sollte ich mit mit neuen Werkzeugen befassen?\n",
    "\n",
    "- Was bedeutet Memory/Type safety?\n",
    "\n",
    "- Warum ist das ein Problem?\n",
    "\n",
    "- Welche Lösungen gibt es allgemein?\n",
    "\n",
    "- Warum Rust statt XYZ?\n",
    "\n",
    "- Wann nicht Rust?\n",
    "\n",
    "- Ausgewählte Beispiele vs C/C++ (Appetizer)"
   ]
  },
  {
   "cell_type": "markdown",
   "metadata": {
    "slideshow": {
     "slide_type": "subslide"
    }
   },
   "source": [
    "# Warum sollte ich mich mit neuen Werkzeugen befassen?\n",
    "\n",
    "- Generell ermöglichen bessere Werkzeuge überhaupt erst die Verbesserung von Prozess und Produkt  \n",
    "- Mit Speer, Keil, Feuer (nicht notwendigerweise in dieser Reihenfolge) fing unsere Zivilisation an  \n",
    "- Werkzeuge funktionieren am besten in einer Nische, müssen in der Praxis jedoch ein Spektrum abdecken (\"Two-Language-Problem\") \n",
    "- Fertigung: Sicherere Bedienung, Weniger Verschnitt, kürzere Produktionszeiten, oder ganz neue Technologien (Additive Manufacturing)  \n",
    "- Software im Großen und Ganzen: Produktiver (Mehr Abstraktion) bei gleicher oder besserer Ausführgeschw. Komerziell weniger wichtig war bisher die Sicherheit (Safety -> Security). "
   ]
  },
  {
   "cell_type": "markdown",
   "metadata": {
    "slideshow": {
     "slide_type": "slide"
    }
   },
   "source": [
    "## Reminder: Was sind Memory und Type Safety?\n",
    "- **Memory Safety** is the state of being protected from various software bugs and security vulnerabilities when dealing with memory access, such as buffer overflows and dangling pointers[\\[1\\]](https://en.wikipedia.org/wiki/Memory_safety#cite_note-Adve-1). (Kein deutschsprachiger Artikel vorhanden). Memory Safety kann weitreichende Folgen haben, man kann unterscheiden in \n",
    "    - Räumliche Abh. (Out-Of-Bounds Fehler) \n",
    "    - Zeitliche Abh. (Use-After-Free)\n",
    "    - Zugriffsabh.   (Data-Races)  \n",
    "    \n",
    " Um dies zu gewährleisten, benötigen wir auch \n",
    "\n",
    "\n",
    "- **Type Safety** bezeichnet den Zustand (einer Programmausführung), bei dem die Datentypen gemäß ihren Definitionen in der benutzten Programmiersprache verwendet werden und keine Typverletzungen auftreten.[\\[2\\]](https://de.wikipedia.org/wiki/Typsicherheit). Type Safety verbietet in der Regel die Null Referenz und verhindert somit einige Segfaults, Use-After-Free, Double-Free und weitere Fehler und mindert so die Angriffsoberfläche.\n",
    "\n",
    "Tony Hoare selbst nennt seine Erfindung der Null Referenz seinen [\"billion-dollar mistake\"](https://www.infoq.com/presentations/Null-References-The-Billion-Dollar-Mistake-Tony-Hoare/) (Ironischerweise teilt Rusts Initiator Graydon Hoare ebenfalls den Namen, es besteht jedoch keine Verwandtschaft)"
   ]
  },
  {
   "cell_type": "markdown",
   "metadata": {
    "slideshow": {
     "slide_type": "subslide"
    }
   },
   "source": [
    "# Memory Safety offiziell \n",
    "## Teil der US-amerikanischen National Security Agency (NSA) \"Best Practices\" und White House Cybersecurity-Policy\n",
    "\n",
    "> “We have to consistently use memory safe languages and other protections when developing software to eliminate these weaknesses from malicious cyber actors.”\n",
    "\n",
    "[NSA Press Release Nov 2022](https://www.nsa.gov/Press-Room/News-Highlights/Article/Article/3215760/nsa-releases-guidance-on-how-to-protect-against-software-memory-safety-issues/)\n",
    "\n",
    "\n",
    "> Cybersecurity solutions should be informed by engineering best practices, and technology\n",
    "manufacturers building software can tackle this issue by consistently using secure building blocks;\n",
    "specifically, adopting memory safe programming languages. There is strong evidence that now is\n",
    "the time to make these changes. First, technical solutions already exist; there are dozens of memory\n",
    "safe programming languages that can – and should – be used.\n",
    "\n",
    "[White House Publication Feb 2024](https://bidenwhitehouse.archives.gov/wp-content/uploads/2024/02/Final-ONCD-Technical-Report.pdf)"
   ]
  },
  {
   "cell_type": "markdown",
   "metadata": {},
   "source": [
    "# Eigenschaften die Rust zum Erfolg verhalfen\n",
    "- **Memory Safety** (Keine Null Referenzen, keine Buffer Overflows, keine Double-Free, keine Use-After-Free)\n",
    "- **Type Safety** (Keine Typverletzungen, keine Segfaults)\n",
    "- **Performance** (Im Mittel genauso schnell wie C/C++)\n",
    "- **Concurrency** (Keine Data Races)\n",
    "- **Abstraktion** (Generics, Traits, Lifetimes, Pattern Matching, Sum Types, Closures, Iterators, Async/Await, ... OHNE Mehrkosten!)\n",
    "- **unsafe Keyword** Safety ist Opt-Out statt Opt-In, nur sehr selten notwendig, begrenzt Fehlersuche"
   ]
  },
  {
   "cell_type": "markdown",
   "metadata": {
    "slideshow": {
     "slide_type": "subslide"
    }
   },
   "source": [
    "# Beispiel: Dies ist valider C++ Code\n",
    "```c \n",
    "#include <vector>\n",
    "#include <iostream>\n",
    "\n",
    "int main() {\n",
    "    std::vector<int> vec = {1, 2, 3, 4, 5};\n",
    "\n",
    "    int& ref = vec[0];\n",
    "\n",
    "    vec.push_back(6);\n",
    "\n",
    "    std::cout << \"Ref: \" << ref << std::endl;\n",
    "\n",
    "    return 0;\n",
    "}\n",
    "```\n",
    "Wo ist hier das Problem?"
   ]
  },
  {
   "cell_type": "markdown",
   "metadata": {
    "slideshow": {
     "slide_type": "subslide"
    }
   },
   "source": [
    "# Beispiel: Dies ist *invalider* Rust Code\n",
    "\n",
    "```rust\n",
    "fn main() {\n",
    "    let mut vec = vec![1, 2, 3, 4, 5];\n",
    "\n",
    "    // Immutably borrow an element from the vector\n",
    "    let ref_element = &vec[0];\n",
    "\n",
    "    // Try to modify the vector while the immutable borrow exists\n",
    "    vec.push(6); // Compile-time error!\n",
    "\n",
    "    println!(\"Ref: {}\", ref_element);\n",
    "}\n",
    "```\n",
    "Kompiliert nicht, Fehlermeldung:"
   ]
  },
  {
   "cell_type": "markdown",
   "metadata": {
    "slideshow": {
     "slide_type": "subslide"
    }
   },
   "source": [
    "```\n",
    "error[E0502]: cannot borrow `vec` as mutable because it is also borrowed as immutable\n",
    "  --> src/main.rs:8:5\n",
    "   |\n",
    "5  |     let ref_element = &vec[0];\n",
    "   |                        --- immutable borrow occurs here\n",
    "...\n",
    "8  |     vec.push(6); // Compile-time error!\n",
    "   |     ^^^^^^^^^^^ mutable borrow occurs here\n",
    "9  |\n",
    "10 |     println!(\"Ref: {}\", ref_element);\n",
    "   |                         ----------- immutable borrow later used here\n",
    "\n",
    "For more information about this error, try `rustc --explain E0502`.\n",
    "```"
   ]
  },
  {
   "cell_type": "markdown",
   "metadata": {
    "slideshow": {
     "slide_type": "subslide"
    }
   },
   "source": [
    "# Spolsky's Law und Hyrum's Law\n",
    "[Spolsky's Law of Leaky Abstractions](https://www.joelonsoftware.com/2002/11/11/the-law-of-leaky-abstractions/)\n",
    "\n",
    "> All non-trivial abstractions, to some degree, are leaky.\n",
    "\n",
    "Ebenfalls ein gewisses Paradoxon: Abstraktionen sollen verhindern, dass wir die Implementierung kennen müssen. Jedoch ist jede Abstraktion \"undicht\", sodass die Implementierung an Nutzende \"leaked\" und wir uns trotzdem ggf. darum kümmern müssen.\n",
    "\n",
    "[Hyrum's Law](https://www.hyrumslaw.com/)\n",
    "\n",
    "> With a sufficient number of users of an API,\n",
    "it does not matter what you promise in the contract:\n",
    "all observable behaviors of your system\n",
    "will be depended on by somebody.\n",
    "\n",
    "Folglich wird es einige Codebases geben, welche das gezeigte Muster in C++ verwenden und so implizit von der Implementierung abhängen. \n",
    "\n",
    "Das geniale an den Eigenschaften von Rust ist, dass die Anzahl der \"Löcher\" bezogen auf Speicher und Typen auf ein Minddestmaß reduziert wird (unsafe keyword)"
   ]
  },
  {
   "cell_type": "markdown",
   "metadata": {
    "slideshow": {
     "slide_type": "subslide"
    }
   },
   "source": [
    "# Beispiel: Initialisierungszwang, valider C++ Code\n",
    "\n",
    "```c\n",
    "#include <iostream>\n",
    "int main() {\n",
    "    int x;\n",
    "    std::cout << x << std::endl;\n",
    "}\n",
    "```\n",
    "Funktioniert, gibt jedoch keinen sinnvollen Wert aus."
   ]
  },
  {
   "cell_type": "markdown",
   "metadata": {
    "slideshow": {
     "slide_type": "subslide"
    }
   },
   "source": [
    "# Beispiel: Initialisierungszwang, invalider Rust Code\n",
    "\n",
    "```rust\n",
    "fn main() {\n",
    "    let x: i32;\n",
    "    println!(\"{}\", x);\n",
    "}\n",
    "```\n",
    "\n",
    "```\n",
    "error[E0381]: borrow of possibly-uninitialized variable: `x`\n",
    " --> src/main.rs:3:20\n",
    "  |\n",
    "3 |     println!(\"{}\", x);\n",
    "  |                    ^ borrow of possibly-uninitialized variable\n",
    "```"
   ]
  },
  {
   "cell_type": "markdown",
   "metadata": {
    "jp-MarkdownHeadingCollapsed": true,
    "slideshow": {
     "slide_type": "slide"
    }
   },
   "source": [
    "## Memory Safety bei Microsoft\n",
    "![microsoft_memory_cve](./resource/images/microsoft_study_cve_memsafety.png)\n",
    "Quelle: Microsoft Security Response Center [Blog 1](https://msrc-blog.microsoft.com/2019/07/18/we-need-a-safer-systems-programming-language/) und [Blog 2](https://msrc-blog.microsoft.com/2019/07/16/a-proactive-approach-to-more-secure-code/) und \n",
    "[Ausführliche Präsentation](https://github.com/microsoft/MSRC-Security-Research/tree/master/presentations/2019_02_BlueHatIL) (siehe Slide 10).   \n",
    "Grafik wurde nicht erneuert für 2019-2020, Aktuelle Fallzahlen legen nahe, dass der Einsatz von Rust diese Fehlerquelle reduziert/mitigiert (Siehe Beispiel Android später)"
   ]
  },
  {
   "cell_type": "markdown",
   "metadata": {
    "slideshow": {
     "slide_type": "subslide"
    }
   },
   "source": [
    "## Memory Safety in Chromium\n",
    "![chromium_memory_cve](https://www.chromium.org/Home/chromium-security/memory-safety/piechart.png) \n",
    "\n",
    "\"These bugs are spread evenly across our codebase, and a high proportion of our non-security stability bugs share the same types of root cause. As well as risking our users’ security, these bugs have real costs in how we fix and ship Chrome.\"\n",
    "Quelle: [The Chromium Project](https://www.chromium.org/Home/chromium-security/memory-safety).\n",
    "\n",
    "Vorschläge des Projekts: Safety Bibliotheken/Dialekte in C++ und sichere Sprachen"
   ]
  },
  {
   "cell_type": "markdown",
   "metadata": {
    "slideshow": {
     "slide_type": "subslide"
    }
   },
   "source": [
    "# Mehr Memory (Un-)Safety\n",
    "- Firefox CSS Subsystem 73.9 % der Sicherheitslücken [Quelle](https://hacks.mozilla.org/2019/02/rewriting-a-browser-component-in-rust/)\n",
    "- iOS: 66.3 %  und  macOS: 71.5 % aller Sicherheitslücken [Quelle](https://langui.sh/2019/07/23/apple-memory-safety/)\n",
    "- Eine erweiterte Zusammenfassung ist [bei Alex Gaynor (unaffiliated) zu finden](https://alexgaynor.net/2020/may/27/science-on-memory-unsafety-and-security/)\n",
    "\n",
    "Nachdem wir nun empirische Beweise gesammelt haben, stellen wir eben diese Beweislage gegenüber gängiger Meinung/Praxis"
   ]
  },
  {
   "cell_type": "markdown",
   "metadata": {
    "slideshow": {
     "slide_type": "subslide"
    }
   },
   "source": [
    "## Gängige Hypothese\n",
    "> \"Gute C/C++ Programmierer, wissen wie man Fehler vermeidet.\""
   ]
  },
  {
   "cell_type": "markdown",
   "metadata": {
    "slideshow": {
     "slide_type": "fragment"
    }
   },
   "source": [
    "## Erklärung 1\n",
    "~70% *aller* C/C++ Programme werden folglich nicht von C/C++ Programmierern geschrieben."
   ]
  },
  {
   "cell_type": "markdown",
   "metadata": {
    "slideshow": {
     "slide_type": "fragment"
    }
   },
   "source": [
    "## Erklärung 2\n",
    "~70% *aller* C/C++ Programmierer sind folglich keine \"guten\" Programmierer. "
   ]
  },
  {
   "cell_type": "markdown",
   "metadata": {
    "slideshow": {
     "slide_type": "fragment"
    }
   },
   "source": [
    "(shamelessly stolen from Ryan Levick)"
   ]
  },
  {
   "cell_type": "markdown",
   "metadata": {
    "slideshow": {
     "slide_type": "slide"
    }
   },
   "source": [
    "# Was bedeutet Memory Safety für mein Unternehmen?\n",
    "- CVE steht für Common Vulnerabilities and Exposures, also ausnutzbare Sicherheitslücken!\n",
    "- Personenbezogene Daten als (kostspielige) Verantwortung: GDPR (General Data Protection Regulation)\n",
    "- Kritische Steuerungsanwendungen (Energie, Autonome Fahrzeuge, IoT Geräte)\n",
    "- Lange Lebenszyklen profitieren besonders von robuster Software (Wartbarkeit)"
   ]
  },
  {
   "cell_type": "markdown",
   "metadata": {
    "slideshow": {
     "slide_type": "subslide"
    }
   },
   "source": [
    "# Stack Buffer Overflow (Stack Smashing)\n",
    "\n",
    "```C\n",
    "#include <stdio.h>\n",
    "#include <string.h>\n",
    "\n",
    "void vulnerable(char *input) {\n",
    "    char buffer[16];\n",
    "    strcpy(buffer, input);  // no bounds checking!\n",
    "}\n",
    "\n",
    "int main(int argc, char *argv[]) {\n",
    "    if (argc > 1)\n",
    "        vulnerable(argv[1]);\n",
    "    return 0;\n",
    "}\n",
    "```\n",
    "- strcpy() schreibt ohne Längenprüfung in den Buffer, dabei kann die Stack-Frame Struktur überschrieben werden, z.B. Return-Adresse (Arbitrary Code Execution)\n",
    "- Compiler kann nicht helfen, da strcpy() nicht in den Compiler-Optimierungen berücksichtigt wird\n",
    "- Compiler-Optionen wie -fstack-protector-all und -D_FORTIFY_SOURCE=2 helfen nur bedingt\n",
    "- Hardware-Schutzmechanismen wie DEP (Data Execution Prevention) und ASLR (Address Space Layout Randomization) sind nicht immer verfügbar (z.B. bei Embedded-Systemen)"
   ]
  },
  {
   "cell_type": "markdown",
   "metadata": {
    "slideshow": {
     "slide_type": "subslide"
    }
   },
   "source": [
    "# Heap Buffer Overflow\n",
    "```C\n",
    "#include <stdlib.h>\n",
    "#include <string.h>\n",
    "#include <stdio.h>\n",
    "\n",
    "int main() {\n",
    "    char *buffer = malloc(16);\n",
    "    char *buf_in = malloc(64); // Umweg, da die Groesse von string literalen mittlerweile vom Compiler erkannt wird\n",
    "    strcpy(buf_in, \"this input is way too long for 16 bytes\");\n",
    "    strcpy(buffer, buf_in);  // no bounds checking!\n",
    "    free(buffer);\n",
    "    return 0;\n",
    "}\n",
    "```\n",
    "- strcpy() schreibt ohne Längenprüfung in den Buffer und die Heap-Frame Struktur oder andere benachbarte Speicherbereiche können überschrieben werden\n",
    "- Kann dazu führen, dass Funktionszeiger oder andere Datenstrukturen überschrieben werden (ACE)\n",
    "- Modern Systeme verwenden Heap-Schutzmechanismen wie Mapping und Guard Pages, die jedoch nicht immer verfügbar sind (z.B. bei Embedded-Systemen)"
   ]
  },
  {
   "cell_type": "markdown",
   "metadata": {
    "slideshow": {
     "slide_type": "subslide"
    }
   },
   "source": [
    "# Use-After-Free\n",
    "```C\n",
    "#include <stdlib.h>\n",
    "#include <stdio.h>\n",
    "\n",
    "int main() {\n",
    "    char *data = malloc(100);\n",
    "    free(data);\n",
    "\n",
    "    data[0] = 'A';  // use-after-free\n",
    "    printf(\"Data: %c\\n\", data[0]);\n",
    "}\n",
    "```\n",
    "- Nach dem Freigeben des Speichers wird der Zeiger nicht auf NULL gesetzt, was zu undefiniertem Verhalten führt\n",
    "- Dort könnte ein neues Objekt alloziiert werden, dessen Zeiger/vtable etc. überschrieben werden kann (ACE)\n",
    "- Compiler kann nicht helfen, da der Zeiger weiterhin gültig ist\n",
    "- Compiler-Optionen wie -fsanitize=address helfen nur bedingt\n",
    "- Sehr einfach zu übersehen, besonders in nebenläufigen Programmen!"
   ]
  },
  {
   "cell_type": "markdown",
   "metadata": {
    "slideshow": {
     "slide_type": "subslide"
    }
   },
   "source": [
    "# Out-Of-Bounds Read\n",
    "```C\n",
    "#include <stdio.h>\n",
    "\n",
    "int main() {\n",
    "    int arr[5] = {1, 2, 3, 4, 5};\n",
    "\n",
    "    for (int i = 0; i < 10; i++) {\n",
    "        printf(\"arr[%d] = %d\\n\", i, arr[i]);  // undefined behavior\n",
    "    }\n",
    "\n",
    "    return 0;\n",
    "}\n",
    "```\n",
    "- Zugriff auf Speicherbereiche, die nicht dem Array zugeordnet oder nicht initialisiert sind\n",
    "- Kann sensible Daten exponieren - Varianten hiervon haben zu dem berühmten [Heartbleed Bug](https://en.wikipedia.org/wiki/Heartbleed) geführt!\n",
    "- Rust kann helfen\n",
    "  1. Iteratoren können keine Out-Of-Bounds Fehler verursachen\n",
    "  2. Indexing ist nur mit dem Index-Operator möglich, der den Zugriff auf den Index überprüft"
   ]
  },
  {
   "cell_type": "markdown",
   "metadata": {
    "slideshow": {
     "slide_type": "subslide"
    }
   },
   "source": [
    "# Format String Vulnerability\n",
    "```C\n",
    "#include <stdio.h>\n",
    "\n",
    "int main(int argc, char *argv[]) {\n",
    "    printf(\"%x %x %x %x %x %n\");\n",
    "    return 0;\n",
    "}\n",
    "```\n",
    "\n",
    "- Sie ermöglichen es Angreifern, den Speicher zu lesen/manipulieren\n",
    "- Das Programm oben könnte z.B diese Adressen ausgeben `bfb4fd58 bfb4fd68 77ca7dc0 0 ccbf5380` und Daten mit  `%n` schreiben"
   ]
  },
  {
   "cell_type": "markdown",
   "metadata": {
    "slideshow": {
     "slide_type": "subslide"
    }
   },
   "source": [
    "# Double-Free\n",
    "```C\n",
    "#include <stdlib.h>\n",
    "\n",
    "int main() {\n",
    "    char *ptr = malloc(64);\n",
    "    free(ptr);\n",
    "    free(ptr);  // double free\n",
    "    return 0;\n",
    "}\n",
    "```\n",
    "- Doppelte Freigabe des Speichers kann die Liste der freien Blöcke im Allokator beschädigen\n",
    "- Kann zusammen mit anderen Angriffen verwendet werden, um Speicher zu manipulieren und Code auszuführen\n",
    "- Moderne Systeme bieten z.B. Detektionsmechanismen, diese können jedoch nicht alle Instanzen abdecken"
   ]
  },
  {
   "cell_type": "markdown",
   "metadata": {
    "slideshow": {
     "slide_type": "subslide"
    }
   },
   "source": [
    "## Nutzung in bekannten Unternehmen\n",
    "- Mozilla ([Firefox/Servo](https://github.com/servo/servo), [Servo/WebRender](https://github.com/servo/webrender))\n",
    "- Microsoft ([Windows Kernel Driver](https://github.com/microsoft/windows-drivers-rs), Azure/IoT)\n",
    "- Dropbox ([Sync Engine](https://www.wired.com/2016/03/epic-story-dropboxs-exodus-amazon-cloud-empire/)) \n",
    "- Ein Service im ([NPM Server](https://www.rust-lang.org/static/pdfs/Rust-npm-Whitepaper.pdf))\n",
    "- Amazon Web Services ([Firecracker VMM](https://github.com/firecracker-microvm/firecracker), [Bottlerocket](https://github.com/bottlerocket-os/bottlerocket), [Nitro](https://aws.amazon.com/blogs/opensource/why-aws-loves-rust-and-how-wed-like-to-help/))\n",
    "- Google ([Android Bluetooth](https://android.googlesource.com/platform/packages/modules/Bluetooth/+/refs/heads/main/system/rust/), others)\n",
    "- Apache ([DataFusion](https://github.com/apache/datafusion))\n",
    "\n",
    "Für alle diese Projekte ist Performanz und Sicherheit wichtig. Zudem sind die Großunternehmen nicht nur auf den Wagen aufgesprungen, sondern haben sogar Pferde davorgespannt, indem sie die Rust Foundation fördern."
   ]
  },
  {
   "cell_type": "markdown",
   "metadata": {
    "slideshow": {
     "slide_type": "subslide"
    }
   },
   "source": [
    "# Aktuelles Beispiel: Google Android\n",
    "Aus dem [Google Security Blog](https://security.googleblog.com/2022/12/memory-safe-languages-in-android-13.html):  \n",
    ">   Android 13 is the first Android release where a majority of new code added to the release is in a memory safe language  \n",
    "    ...  \n",
    "    2022 is the first year where memory safety vulnerabilities do not represent a majority of Android’s vulnerabilities  \n",
    "    ...  \n",
    "    To date, there have been zero memory safety vulnerabilities discovered in Android’s Rust code.\n",
    "    \n",
    " Memory-Safe Sprachen in Android sind Java/Kotlin/Rust, mit dem groessten Anteil in Java. Rust wird besonders für low-level Komponenten verwendet, wie Kernel/-Module.\n"
   ]
  },
  {
   "cell_type": "markdown",
   "metadata": {
    "slideshow": {
     "slide_type": "subslide"
    }
   },
   "source": [
    "> In Android 13, about 21% of all new native code (C/C++/Rust) is in Rust. There are approximately 1.5 million total lines of Rustcode in AOSP... To date, there have been zero memory safety vulnerabilities discovered in Android’s Rust code. ... It demonstrates that Rust is fulfilling its intended purpose of preventing Android’s most common source of vulnerabilities. ... Historical vulnerability density is greater than 1/kLOC (1 vulnerability per thousand lines of code) ... Based on this historical vulnerability density, it’s likely that using Rust has already prevented hundreds of vulnerabilities from reaching production.\n",
    "\n",
    "Google's Strategie ist\n",
    "\n",
    "> ... our goal is not to convert existing C/C++ to Rust, but rather to shift development of new code to memory safe languages over time. \n",
    "\n",
    "Ähnliches passiert auch bei Microsoft (Win11 GraphicsDeviceInterface und SysCall lt. R. Levick und D. Weston)"
   ]
  },
  {
   "cell_type": "markdown",
   "metadata": {
    "slideshow": {
     "slide_type": "slide"
    }
   },
   "source": [
    "# Warum Rust und nicht ...? I\n",
    "|                    | Rust                | C++                    | C\\#                 | Swift      | Golang     | Ada                  |\n",
    "| ------------------ |:-------------------:|:---------------------:|:-------------------:|:----------:|:----------:|:--------------------:|\n",
    "| Build Tools        | ja (cargo)          | 3rd party              | ja (MSBuild)        | ja         | ja         | ja (GNAT, gprbuild)  |\n",
    "| Paketmanager       | ja, (cargo)         | 3rd party              | ja (NuGet)          | ja         | ja         | nein (3rd party Lösungen vorhanden) |\n",
    "| Memory Management  | semi-manuell        | manuell  (semi durch libs)              | auto (GC)           | semi-auto (rc+manuell) | auto (GC)   | manuell/semi-manuell |\n",
    "| Spatial Safety     | ja                  | nein/begrenzt (Libs, ext. Werkzg., Dialekte) | ja          | ja         | ja         | ja                    |\n",
    "| Temporal Safety    | ja                  | nein/begrenzt,(Libs, ext. Werkzg., Dialekte) | ja          | ja         | ja         | ja                    |\n",
    "| Zugriffsicherheit  | ja                  | nein                   | nein ([CHESS](https://www.microsoft.com/en-us/research/wp-content/uploads/2016/02/chess-chesspldi2009tutorial.pdf)) | nein  | nein       | ja                    |\n",
    "| Null-Safety        | ja                  | nein                   | ja, seit C\\# 8      | ja         | nein       | ja (mittels Ada 2012 Aspects) |\n",
    " "
   ]
  },
  {
   "cell_type": "markdown",
   "metadata": {
    "slideshow": {
     "slide_type": "subslide"
    }
   },
   "source": [
    "Für Sprachen, bei denen die Safety-Features nicht bestehen, können Programme zur statischen Analyse helfen. Diese können allerdings nicht alle Fehler finden. Beispiele: [List of Static Analyzers](https://github.com/analysis-tools-dev/static-analysis#c)\n",
    "Dynamische Analyse bez. Performance und Input Handling müssen trotzdem noch zur Laufzeit durchgeführt werden (Fuzzer, Valgrind, Flamegraph etc.)"
   ]
  },
  {
   "cell_type": "markdown",
   "metadata": {
    "slideshow": {
     "slide_type": "subslide"
    }
   },
   "source": [
    "# Warum Rust und nicht ...? II\n",
    "Rust ist also ideal geeignet für Anwendungen, in denen traditionell Sprachen wie C/C++/Ada/Fortran verwendet werden, wildert durch die moderne Ergonomie aber auch in den \"unteren\" Bereichen der Managed Sprachen. Gleichzeitig hebt es sich durch die nicht benötigte Garbage Collection (=bessere Performanz) ab.\n",
    "\n",
    "Bisher gab es eigentlich nur drei Zertifizierungen für diesen Bereich durch:\n",
    "- [MISRA C](https://misra.org.uk/) (Autoindustrie, Raumfahrt)\n",
    "- [AUTOSAR C++](https://www.autosar.org/standards/classic-platform) (Autoindustrie)\n",
    "- [Ada/SPARK](https://www.adacore.com/about-spark) (Raumfahrt- und Verteidigungsindustrie)\n",
    "\n",
    "Rust hat mittlerweile auch eine [zertifizierte Open-Source-Toolchain](https://github.com/ferrocene) für sicherheitskritische Anwendungen, welche in diese Bereichen vordringen will:\n",
    "- ISO 26262 (ASIL D - \"Automotive Integrity Safety Level\") \n",
    "- IEC 61508 (SIL 4) \"Funktionale Sicherheit sicherheitsbezogener elektrischer/elektronischer/programmierbarer elektronischer Systeme\"\n",
    "- EC 62304 (Class C) \"Software safety classification\"\n",
    "\n",
    "Geplant: DO-178C, ISO 21434 und IEC 62278"
   ]
  },
  {
   "cell_type": "markdown",
   "metadata": {
    "slideshow": {
     "slide_type": "subslide"
    }
   },
   "source": [
    "# Wann nicht Rust?\n",
    "\n",
    "- Wenn Ihre Anforderungen durch Managed-Sprachen ausreichend abgedeckt sind (C\\#, Java) -> Einheitliches Ökosystem, geringere Einarbeitungskosten\n",
    "- Wenn Sie auf bestehenden Code aufbauen, der nicht in Rust geschrieben ist und realistisch nicht umgeschrieben werden kann (z.B. COBOL, Zertifizierungen)\n",
    "- Wenn Ihr Produkt auf eine stabile ABI (Application Binary Interface) angewiesen ist (die z.B. C/Ada bietet)\n",
    "- Ihre Arbeit hauptsächlich bestehende Komponenten integriert bzw. auf Frameworks aufbaut (Data Science, Web Development, Game Development). Allerdings können Sie Bibliotheken verwenden, welche in Rust geschrieben sind z.b. \n",
    "  - Polars, Servo, Bevy, Amethyst, Piston, Actix, Rocket, Tide, Yew, Druid\n",
    "- Wenn zeitliche und finanzielle Ressourcen begrenzt sind und die Einarbeitung in Rust zu lange dauern würde bzw. Entwickler zu teuer sind (Opportunitätskosten)"
   ]
  },
  {
   "cell_type": "markdown",
   "metadata": {
    "slideshow": {
     "slide_type": "subslide"
    }
   },
   "source": [
    "## Kleingedrucktes \n",
    "- Data Races in Rust können ohne unsafe{..} weder räumliche noch zeitliche Sicherheit verletzen!\n",
    "- Rust threads können trotzdem im Deadlock enden. Die Garantie gilt nur für shared Memory Safety.\n",
    "- Rusts Sicherheit bezahlt man mit Implementierungs- und Compile-Zeit (spart aber an Debugging).  \n",
    "- Slices in Rust kennen ihre eigene Größe und verursachen Panics statt ausnutzbare Out-Of-Bounds Fehler.  \n",
    "- Rust hat (noch) keine Spezifikation, ist also für bestimmte Bereiche noch nicht geeignet (nicht wie Ada/SPARK)\n",
    "- NEU: Rust hat mit Ferrocene jetzt einen zertifizierten Compiler\n",
    "- Rust ist so schnell wie C/C++, dank sog. Zero-Cost-Abstractions"
   ]
  },
  {
   "cell_type": "markdown",
   "metadata": {
    "slideshow": {
     "slide_type": "fragment"
    }
   },
   "source": [
    "### In der Regel gilt: Kompiliert das Programm, führt es zu _keinem unkontrollierten(!)_ Programmabsturz"
   ]
  },
  {
   "cell_type": "markdown",
   "metadata": {},
   "source": [
    "# Empfohlene Installation\n",
    "\n",
    "- [rustup](https://rustup.rs/) (Rust Toolchain Manager)\n",
    "- [Visual Studio Code](https://code.visualstudio.com/)\n",
    "- [VSCode Plugin rust-analyzer](https://marketplace.visualstudio.com/items?itemName=matklad.rust-analyzer) (VSCode Extension)\n",
    "- [VSCode Plugin crates](https://marketplace.visualstudio.com/items?itemName=serayuzgur.crates) (VSCode Extension) (Library Version (\"crate\" in Rust) Management)\n",
    "- [VSCode Plugin CodeLLDB](https://marketplace.visualstudio.com/items?itemName=vadimcn.vscode-lldb) (VSCode Extension) (LLVM Debugger)\n",
    "- [VSCode Plugin Even Better TOML](https://marketplace.visualstudio.com/items?itemName=tamasfe.even-better-toml) (VSCode Extension) (TOML Syntax Highlighting)\n",
    "\n",
    "Alternativ [RustRover](https://www.jetbrains.com/rust/) (Rust IDE) oder [Zed](https://zed.dev/) (Editor mit Rust Unterstützung)\n",
    "\n",
    "Jetzt wollen wir ein einfaches Projekt anlegen und kompilieren."
   ]
  },
  {
   "cell_type": "markdown",
   "metadata": {},
   "source": [
    "# Quickstart\n",
    "## Datentypen und Variablen\n",
    "- `let` für Variablen\n",
    "- `const` für Konstanten\n",
    "- `let mut` für mutierbare Variablen\n",
    "- `u8` ... `u128` für unsigned Integer\n",
    "- `i8` ... `i128` für signed Integer\n",
    "- `f32` und `f64` für Floats\n",
    "- `bool` für Booleans\n",
    "- `char` für Unicode Zeichen\n",
    "- `&`, `&mut` für Referenzen und `*` für Dereferenzierung\n",
    "- Strings sind UTF-8 codiert und können mit `String` oder `&str` dargestellt werden\n",
    "\n",
    "Anlegen mit `let x: Type = Value;` oder `let x = Value;` (Typinferenz)"
   ]
  },
  {
   "cell_type": "markdown",
   "metadata": {
    "slideshow": {
     "slide_type": "subslide"
    }
   },
   "source": [
    "# Statt Nullreferenzen\n",
    "\n",
    "- `Option<T>` für Werte, die fehlen können (Varianten: Some oder None)\n",
    "- `Result<T, E>` für Fehlerbehandlung (Varianten: Ok oder Err)\n",
    "- `unwrap()`, `expect()` für \"schnelles\" Entpacken\n",
    "- Pattern Matching zum \"Entpacken\" der Varianten\n",
    "\n",
    "```rust\n",
    "  let x: Option<i32> = Some(5);\n",
    "  let y: Option<i32> = None;\n",
    "  match x {\n",
    "      Some(i) => println!(\"Value: {}\", i),\n",
    "      None => println!(\"No value\"),\n",
    "  }\n",
    "  match y {\n",
    "      Some(i) => println!(\"Value: {}\", i),\n",
    "      None => println!(\"No value\"),\n",
    "  }\n",
    "```\n",
    "\n"
   ]
  },
  {
   "cell_type": "markdown",
   "metadata": {
    "slideshow": {
     "slide_type": "subslide"
    }
   },
   "source": [
    "# Statt Nullreferenzen\n",
    "## Result<T, E>\n",
    "\n",
    "```rust\n",
    "use std::fs::File;\n",
    "\n",
    "fn main() {\n",
    "    let path = \"example.txt\";\n",
    "    match File::open(path) {\n",
    "        Ok(_) => println!(\"File opened successfully.\"),\n",
    "        Err(e) => println!(\"Failed to open file: {}\", e),\n",
    "    }\n",
    "}\n",
    "\n",
    "```"
   ]
  },
  {
   "cell_type": "markdown",
   "metadata": {
    "slideshow": {
     "slide_type": "slide"
    }
   },
   "source": [
    "# Konzept Ownership\n",
    "1. Zu jedem Wert in Rust gibt es Variable, die ihn Besitzt\n",
    "2. Es kann immer nur einen Besitzer zur Zeit geben\n",
    "3. Wenn der Gültigkeitsbereich des Besitzers verlassen wird, wird der Wert fallengelassen"
   ]
  },
  {
   "cell_type": "markdown",
   "metadata": {
    "slideshow": {
     "slide_type": "subslide"
    }
   },
   "source": [
    "## Gültigkeitsbereiche von Variablen\n",
    "Value Scope: Referenz auf ein String Literal '&str' auf dem Stack"
   ]
  },
  {
   "cell_type": "code",
   "execution_count": 2,
   "metadata": {
    "slideshow": {
     "slide_type": "fragment"
    },
    "vscode": {
     "languageId": "rust"
    }
   },
   "outputs": [
    {
     "name": "stdout",
     "output_type": "stream",
     "text": [
      "bonjour.\n"
     ]
    },
    {
     "data": {
      "text/plain": [
       "()"
      ]
     },
     "execution_count": 2,
     "metadata": {},
     "output_type": "execute_result"
    }
   ],
   "source": [
    "{                            // s gilt hier nicht, es wurde noch nicht deklariert\n",
    "    let s = \"bonjour.\";      // ab diesem Punkt gilt die Variable s\n",
    "    s.to_uppercase();        // string Operation erzeugt einen neuen 'String', da string literale immutable sind\n",
    "    println!(\"{}\",s) \n",
    "}                            // Gültigkeitsbereich von s vorbei"
   ]
  },
  {
   "cell_type": "markdown",
   "metadata": {
    "slideshow": {
     "slide_type": "fragment"
    }
   },
   "source": [
    "Der Heap String Typ kann dagegen verändert werden:"
   ]
  },
  {
   "cell_type": "code",
   "execution_count": 3,
   "metadata": {
    "slideshow": {
     "slide_type": "fragment"
    },
    "vscode": {
     "languageId": "rust"
    }
   },
   "outputs": [
    {
     "name": "stdout",
     "output_type": "stream",
     "text": [
      "Moin, Servus, Grüzi und Hallo!\n"
     ]
    },
    {
     "data": {
      "text/plain": [
       "()"
      ]
     },
     "execution_count": 3,
     "metadata": {},
     "output_type": "execute_result"
    }
   ],
   "source": [
    "{\n",
    "let mut s = String::from(\"Moin\");         // Speicher wird vom Allokator \"ausgeliehen\"\n",
    "\n",
    "s.push_str(\", Servus, Grüzi und Hallo!\"); // push_str() fügt ein Literal and den String an\n",
    "\n",
    "println!(\"{}\", s);\n",
    "}                                         // Gültigkeitsbereich von s endet, Speicher wird autom. zurückgegeben (drop())"
   ]
  },
  {
   "cell_type": "markdown",
   "metadata": {
    "slideshow": {
     "slide_type": "fragment"
    }
   },
   "source": [
    "Bis hierhin verhält sich Rust also wie modernes C++ mit RAII Pattern: Resource Acquisition Is Initialization"
   ]
  },
  {
   "cell_type": "markdown",
   "metadata": {
    "slideshow": {
     "slide_type": "subslide"
    }
   },
   "source": [
    "## Ownership: Zugehörigkeit verschieben (Move Semantics)\n"
   ]
  },
  {
   "cell_type": "code",
   "execution_count": 4,
   "metadata": {
    "slideshow": {
     "slide_type": "fragment"
    },
    "vscode": {
     "languageId": "rust"
    }
   },
   "outputs": [
    {
     "ename": "Error",
     "evalue": "borrow of moved value: `s1`",
     "output_type": "error",
     "traceback": [
      "\u001b[31m[E0382] Error:\u001b[0m borrow of moved value: `s1`",
      "   \u001b[38;5;246m╭\u001b[0m\u001b[38;5;246m─\u001b[0m\u001b[38;5;246m[\u001b[0mcommand_4:1:1\u001b[38;5;246m]\u001b[0m",
      "   \u001b[38;5;246m│\u001b[0m",
      " \u001b[38;5;246m1 │\u001b[0m \u001b[38;5;249ml\u001b[0m\u001b[38;5;249me\u001b[0m\u001b[38;5;249mt\u001b[0m\u001b[38;5;249m \u001b[0m\u001b[38;5;68ms\u001b[0m\u001b[38;5;68m1\u001b[0m\u001b[38;5;249m \u001b[0m\u001b[38;5;249m=\u001b[0m\u001b[38;5;249m \u001b[0m\u001b[38;5;249mS\u001b[0m\u001b[38;5;249mt\u001b[0m\u001b[38;5;249mr\u001b[0m\u001b[38;5;249mi\u001b[0m\u001b[38;5;249mn\u001b[0m\u001b[38;5;249mg\u001b[0m\u001b[38;5;249m:\u001b[0m\u001b[38;5;249m:\u001b[0m\u001b[38;5;249mf\u001b[0m\u001b[38;5;249mr\u001b[0m\u001b[38;5;249mo\u001b[0m\u001b[38;5;249mm\u001b[0m\u001b[38;5;249m(\u001b[0m\u001b[38;5;249m\"\u001b[0m\u001b[38;5;249mh\u001b[0m\u001b[38;5;249me\u001b[0m\u001b[38;5;249ml\u001b[0m\u001b[38;5;249ml\u001b[0m\u001b[38;5;249mo\u001b[0m\u001b[38;5;249m\"\u001b[0m\u001b[38;5;249m)\u001b[0m\u001b[38;5;249m;\u001b[0m",
      " \u001b[38;5;240m  │\u001b[0m     \u001b[38;5;68m─\u001b[0m\u001b[38;5;68m┬\u001b[0m  ",
      " \u001b[38;5;240m  │\u001b[0m      \u001b[38;5;68m╰\u001b[0m\u001b[38;5;68m─\u001b[0m\u001b[38;5;68m─\u001b[0m move occurs because `s1` has type `String`, which does not implement the `Copy` trait",
      " \u001b[38;5;246m2 │\u001b[0m \u001b[38;5;249ml\u001b[0m\u001b[38;5;249me\u001b[0m\u001b[38;5;249mt\u001b[0m\u001b[38;5;249m \u001b[0m\u001b[38;5;249ms\u001b[0m\u001b[38;5;249m2\u001b[0m\u001b[38;5;249m \u001b[0m\u001b[38;5;249m=\u001b[0m\u001b[38;5;249m \u001b[0m\u001b[38;5;54ms\u001b[0m\u001b[38;5;54m1\u001b[0m\u001b[38;5;249m;\u001b[0m",
      " \u001b[38;5;240m  │\u001b[0m          \u001b[38;5;54m─\u001b[0m\u001b[38;5;54m┬\u001b[0m\u001b[38;5;37m│\u001b[0m ",
      " \u001b[38;5;240m  │\u001b[0m           \u001b[38;5;54m╰\u001b[0m\u001b[38;5;54m─\u001b[0m\u001b[38;5;54m─\u001b[0m value moved here",
      " \u001b[38;5;240m  │\u001b[0m            \u001b[38;5;37m│\u001b[0m ",
      " \u001b[38;5;240m  │\u001b[0m            \u001b[38;5;37m╰\u001b[0m\u001b[38;5;37m─\u001b[0m help: consider cloning the value if the performance cost is acceptable: `.clone()`",
      " \u001b[38;5;246m3 │\u001b[0m \u001b[38;5;249mp\u001b[0m\u001b[38;5;249mr\u001b[0m\u001b[38;5;249mi\u001b[0m\u001b[38;5;249mn\u001b[0m\u001b[38;5;249mt\u001b[0m\u001b[38;5;249ml\u001b[0m\u001b[38;5;249mn\u001b[0m\u001b[38;5;249m!\u001b[0m\u001b[38;5;249m(\u001b[0m\u001b[38;5;249m\"\u001b[0m\u001b[38;5;249m{\u001b[0m\u001b[38;5;249m}\u001b[0m\u001b[38;5;249m,\u001b[0m\u001b[38;5;249m \u001b[0m\u001b[38;5;249mw\u001b[0m\u001b[38;5;249mo\u001b[0m\u001b[38;5;249mr\u001b[0m\u001b[38;5;249ml\u001b[0m\u001b[38;5;249md\u001b[0m\u001b[38;5;249m!\u001b[0m\u001b[38;5;249m\"\u001b[0m\u001b[38;5;249m,\u001b[0m\u001b[38;5;249m \u001b[0m\u001b[38;5;100ms\u001b[0m\u001b[38;5;100m1\u001b[0m\u001b[38;5;249m)\u001b[0m\u001b[38;5;249m;\u001b[0m",
      " \u001b[38;5;240m  │\u001b[0m                        \u001b[38;5;100m─\u001b[0m\u001b[38;5;100m┬\u001b[0m  ",
      " \u001b[38;5;240m  │\u001b[0m                         \u001b[38;5;100m╰\u001b[0m\u001b[38;5;100m─\u001b[0m\u001b[38;5;100m─\u001b[0m value borrowed here after move",
      "\u001b[38;5;246m───╯\u001b[0m"
     ]
    }
   ],
   "source": [
    "let s1 = String::from(\"hello\");\n",
    "let s2 = s1;\n",
    "println!(\"{}, world!\", s1);"
   ]
  },
  {
   "cell_type": "markdown",
   "metadata": {
    "slideshow": {
     "slide_type": "subslide"
    }
   },
   "source": [
    "<img src=\"https://doc.rust-lang.org/book/img/trpl04-04.svg\" align=\"left\" width=\"450\" height=\"600\">\n",
    "\n",
    "Um eine doppelte Referenz zu vermeiden (und folglich ein Double-Free), wird s1 ungültig, sobald die Referenz verschoben wird (Move). Das ist der wesentliche Unterschied zur Shallow-Copy in anderen Sprachen (Dort wird [Pointer, Länge, Kapazität] auch kopiert, aber beide Referenzen werden behalten)\n"
   ]
  },
  {
   "cell_type": "markdown",
   "metadata": {},
   "source": [
    "# Ownership und Funktionen\n",
    "\n",
    "- Wenn der Typ des Funktionsparameters ein Wert ist, der das Copy Trait implementiert (wie Ganzzahlen, Gleitkommazahlen, Booleans und Zeichen), erhält die Funktion eine Kopie des Werts, und der Besitz wird nicht verschoben. \n",
    "- Für Typen, die das Copy Trait nicht implementieren (wie String, Vec<T> und benutzerdefinierte Typen ohne Copy), überträgt das Übergeben eines Werts an eine Funktion den Besitz dieses Werts an die Funktion. Wenn Sie den Wert nach dem Funktionsaufruf verwenden möchten, müssen Sie ihn aus der Funktion zurückgeben."
   ]
  },
  {
   "cell_type": "code",
   "execution_count": 14,
   "metadata": {
    "slideshow": {
     "slide_type": "fragment"
    },
    "vscode": {
     "languageId": "rust"
    }
   },
   "outputs": [],
   "source": [
    "fn takes_ownership(some_string: String) {\n",
    "    println!(\"{}\", some_string);\n",
    "} // `some_string` goes out of scope and `drop` is called. Memory is freed.\n",
    "\n",
    "fn main() {\n",
    "    let s = String::from(\"hello\");\n",
    "    takes_ownership(s);\n",
    "    //println!(\"{}\", s); // This would fail because `s`'s ownership has been taken.\n",
    "}\n"
   ]
  },
  {
   "cell_type": "markdown",
   "metadata": {
    "slideshow": {
     "slide_type": "subslide"
    }
   },
   "source": [
    "# Borrowing und Funktionen\n",
    "- Wenn ein Funktionsparameter eine Referenz (&T für eine unveränderliche Referenz oder &mut T für eine veränderliche Referenz) ist, übernimmt die Funktion nicht den Besitz des Werts, auf den sie sich bezieht. \n",
    "- Stattdessen leiht sie den Wert für die Dauer des Funktionsaufrufs aus. Dies ermöglicht es dem ursprünglichen Besitzer, den Besitz zu behalten und den Wert nach dem Funktionsaufruf weiter zu verwenden."
   ]
  },
  {
   "cell_type": "code",
   "execution_count": 2,
   "metadata": {
    "slideshow": {
     "slide_type": "subslide"
    },
    "vscode": {
     "languageId": "rust"
    }
   },
   "outputs": [
    {
     "name": "stdout",
     "output_type": "stream",
     "text": [
      "r1: 10, r2: 10\n",
      "r3: 11\n"
     ]
    },
    {
     "data": {
      "text/plain": [
       "()"
      ]
     },
     "execution_count": 2,
     "metadata": {},
     "output_type": "execute_result"
    }
   ],
   "source": [
    "//fn main() // Main nicht zulässig im Interpreter Modus!\n",
    "    let mut zahl = 10; // Eigentümer der Variable `zahl`\n",
    "\n",
    "    {\n",
    "        let r1 = &zahl; // Unveränderliche Referenz auf `zahl`\n",
    "        let r2 = &zahl; // Eine weitere unveränderliche Referenz auf `zahl`\n",
    "        println!(\"r1: {}, r2: {}\", r1, r2);\n",
    "        // Beide Referenzen können gleichzeitig existieren und genutzt werden.\n",
    "    } // `r1` und `r2` enden hier.\n",
    "\n",
    "    {\n",
    "        let r3 = &mut zahl; // Veränderliche Referenz auf `zahl`\n",
    "        *r3 += 1; // Ändert den Wert von `zahl` durch die veränderliche Referenz\n",
    "        // let r4 = &zahl; // Dies führt zu einem Compilerfehler!\n",
    "        println!(\"r3: {}\", r3);\n",
    "        // Während `r3` existiert, können keine anderen Referenzen auf `zahl` erstellt werden.\n",
    "    } // `r3` endet hier, und es können wieder neue Referenzen auf `zahl` erstellt werden.\n",
    "//}\n"
   ]
  },
  {
   "cell_type": "code",
   "execution_count": 13,
   "metadata": {
    "slideshow": {
     "slide_type": "subslide"
    },
    "vscode": {
     "languageId": "rust"
    }
   },
   "outputs": [
    {
     "name": "stdout",
     "output_type": "stream",
     "text": [
      "hello\n",
      "hello, world\n"
     ]
    }
   ],
   "source": [
    "fn borrows_immutable(some_string: &String) {\n",
    "    println!(\"{}\", some_string);\n",
    "} // `some_string` goes out of scope, but because it does not have ownership, nothing happens.\n",
    "\n",
    "fn borrows_mutable(some_string: &mut String) {\n",
    "    some_string.push_str(\", world\");\n",
    "}\n",
    "\n",
    "\n",
    "let mut s = String::from(\"hello\");\n",
    "borrows_immutable(&s);\n",
    "borrows_mutable(&mut s);\n",
    "println!(\"{}\", s); // Works fine; ownership was never moved.\n",
    "\n"
   ]
  },
  {
   "cell_type": "markdown",
   "metadata": {
    "slideshow": {
     "slide_type": "slide"
    }
   },
   "source": [
    "## Offizielle Resourcen  \n",
    " - [Offizielle Seite von Rust-Lang](https://www.rust-lang.org/)\n",
    " - [Offizielle Rust Learning Resourcen](https://www.rust-lang.org/learn) Enthält ganze Bücher für Sprache/Toolchain/WASM/Embedded und interaktive Kurse\n",
    " \n",
    "## Weitere Resourcen (Dev Blogs, Awesome-Lists)\n",
    " - [Why Rust is the Future of Game Development](https://thefuntastic.com/blog/why-rust-is-the-future-game-dev) Klickköder Titel aber sehr objektive und weitreichende Informationen\n",
    " - [rust dev withoutboats' blog](https://without.boats/blog/) Inhalte für technisch interessierte aus Rust dev sicht\n",
    " - [Awesome Rust Liste](https://github.com/rust-unofficial/awesome-rust) Überblick über die reifsten Bibliotheken je Kategorie\n",
    " - [AreWeWebYet](https://www.arewewebyet.org/) Sind wir schon bereit für ... web?\n",
    " - [AreWeGUIYet](https://www.areweguiyet.com/) Sind wir schon bereit für ... GUI?\n",
    " - [AreWeGameYet](https://arewegameyet.rs/) Sind wir schon bereit für ... games?\n",
    " - [AreWeIDEYet](https://areweideyet.com/) Sind wir schon bereit für ... IDEs?\n",
    " \n",
    " "
   ]
  },
  {
   "cell_type": "markdown",
   "metadata": {},
   "source": [
    "# Kennenlernübung\n",
    "\n",
    "## Programm zum zählen der Worthäufigkeit in einem String\n",
    "\n",
    "### Tipps\n",
    "\n",
    "- `std::env` Einfangen von Kommandozeilenargumenten\n",
    "- `std::fs` Lesen von Dateien in einen String mit `fs::read_to_string()` \n",
    "- `std::collections::HashMap` für die Worthäufigkeit\n",
    "- Nur für heute: **KEIN** ChatGPT/Copilot benuzten, wir wollen ein Gefühl für die Sprache bekommen"
   ]
  },
  {
   "cell_type": "markdown",
   "metadata": {},
   "source": []
  }
 ],
 "metadata": {
  "celltoolbar": "Slideshow",
  "kernelspec": {
   "display_name": "Rust",
   "language": "rust",
   "name": "rust"
  },
  "language_info": {
   "codemirror_mode": "rust",
   "file_extension": ".rs",
   "mimetype": "text/rust",
   "name": "Rust",
   "pygment_lexer": "rust",
   "version": ""
  }
 },
 "nbformat": 4,
 "nbformat_minor": 4
}
